{
  "nbformat": 4,
  "nbformat_minor": 0,
  "metadata": {
    "colab": {
      "name": "Vignere cipher(XOR based) Decryption.ipynb",
      "provenance": [],
      "collapsed_sections": []
    },
    "kernelspec": {
      "name": "python3",
      "display_name": "Python 3"
    }
  },
  "cells": [
    {
      "cell_type": "code",
      "metadata": {
        "id": "-6sXVV1GX2Fl",
        "colab_type": "code",
        "outputId": "fbebbd62-4e03-447a-c851-c8636bf026aa",
        "colab": {
          "base_uri": "https://localhost:8080/",
          "height": 35
        }
      },
      "source": [
        "#The actual cypher given in the question\n",
        "cypher=\"F96DE8C227A259C87EE1DA2AED57C93FE5DA36ED4EC87EF2C63AAE5B9A7EFFD673BE4ACF7BE8923CAB1ECE7AF2DA3DA44FCF7AE29235A24C963FF0DF3CA3599A70E5DA36BF1ECE77F8DC34BE129A6CF4D126BF5B9A7CFEDF3EB850D37CF0C63AA2509A76FF9227A55B9A6FE3D720A850D97AB1DD35ED5FCE6BF0D138A84CC931B1F121B44ECE70F6C032BD56C33FF9D320ED5CDF7AFF9226BE5BDE3FF7DD21ED56CF71F5C036A94D963FF8D473A351CE3FE5DA3CB84DDB71F5C17FED51DC3FE8D732BF4D963FF3C727ED4AC87EF5DB27A451D47EFD9230BF47CA6BFEC12ABE4ADF72E29224A84CDF3FF5D720A459D47AF59232A35A9A7AE7D33FB85FCE7AF5923AA31EDB3FF7D33ABF52C33FF0D673A551D93FFCD33DA35BC831B1F43CBF1EDF67F0DF23A15B963FE5DA36ED68D378F4DC36BF5B9A7AFFD121B44ECE76FEDC73BE5DD27AFCD773BA5FC93FE5DA3CB859D26BB1C63CED5CDF3FE2D730B84CDF3FF7DD21ED5ADF7CF0D636BE1EDB79E5D721ED57CE3FE6D320ED57D469F4DC27A85A963FF3C727ED49DF3FFFDD24ED55D470E69E73AC50DE3FE5DA3ABE1EDF67F4C030A44DDF3FF5D73EA250C96BE3D327A84D963FE5DA32B91ED36BB1D132A31ED87AB1D021A255DF71B1C436BF479A7AF0C13AA14794\"\n",
      ],
      "execution_count": 108,
      "outputs": [
        {
          "output_type": "stream",
          "text": [
            "F9\n"
          ],
          "name": "stdout"
        }
      ]
    },
    {
      "cell_type": "code",
      "metadata": {
        "id": "zHRQf5FYNJXS",
        "colab_type": "code",
        "outputId": "a76a5cf7-b176-4870-b0a1-654fd7443fd0",
        "colab": {
          "base_uri": "https://localhost:8080/",
          "height": 74
        }
      },
      "source": [
        "hex_to_dec=[]\n",
        "for i in range(0, len(cypher), 2):\n",
        "  hex_to_dec.append(int(str('0x'+cypher[i:i+2]),0))                    #The second parameter for int is given as zero to include the padding if only 1 hex char is present\n",
        "print(hex_to_dec)\n",
        "print(len(hex_to_dec))"
      ],
      "execution_count": 109,
      "outputs": [
        {
          "output_type": "stream",
          "text": [
            "[249, 109, 232, 194, 39, 162, 89, 200, 126, 225, 218, 42, 237, 87, 201, 63, 229, 218, 54, 237, 78, 200, 126, 242, 198, 58, 174, 91, 154, 126, 255, 214, 115, 190, 74, 207, 123, 232, 146, 60, 171, 30, 206, 122, 242, 218, 61, 164, 79, 207, 122, 226, 146, 53, 162, 76, 150, 63, 240, 223, 60, 163, 89, 154, 112, 229, 218, 54, 191, 30, 206, 119, 248, 220, 52, 190, 18, 154, 108, 244, 209, 38, 191, 91, 154, 124, 254, 223, 62, 184, 80, 211, 124, 240, 198, 58, 162, 80, 154, 118, 255, 146, 39, 165, 91, 154, 111, 227, 215, 32, 168, 80, 217, 122, 177, 221, 53, 237, 95, 206, 107, 240, 209, 56, 168, 76, 201, 49, 177, 241, 33, 180, 78, 206, 112, 246, 192, 50, 189, 86, 195, 63, 249, 211, 32, 237, 92, 223, 122, 255, 146, 38, 190, 91, 222, 63, 247, 221, 33, 237, 86, 207, 113, 245, 192, 54, 169, 77, 150, 63, 248, 212, 115, 163, 81, 206, 63, 229, 218, 60, 184, 77, 219, 113, 245, 193, 127, 237, 81, 220, 63, 232, 215, 50, 191, 77, 150, 63, 243, 199, 39, 237, 74, 200, 126, 245, 219, 39, 164, 81, 212, 126, 253, 146, 48, 191, 71, 202, 107, 254, 193, 42, 190, 74, 223, 114, 226, 146, 36, 168, 76, 223, 63, 245, 215, 32, 164, 89, 212, 122, 245, 146, 50, 163, 90, 154, 122, 231, 211, 63, 184, 95, 206, 122, 245, 146, 58, 163, 30, 219, 63, 247, 211, 58, 191, 82, 195, 63, 240, 214, 115, 165, 81, 217, 63, 252, 211, 61, 163, 91, 200, 49, 177, 244, 60, 191, 30, 223, 103, 240, 223, 35, 161, 91, 150, 63, 229, 218, 54, 237, 104, 211, 120, 244, 220, 54, 191, 91, 154, 122, 255, 209, 33, 180, 78, 206, 118, 254, 220, 115, 190, 93, 210, 122, 252, 215, 115, 186, 95, 201, 63, 229, 218, 60, 184, 89, 210, 107, 177, 198, 60, 237, 92, 223, 63, 226, 215, 48, 184, 76, 223, 63, 247, 221, 33, 237, 90, 223, 124, 240, 214, 54, 190, 30, 219, 121, 229, 215, 33, 237, 87, 206, 63, 230, 211, 32, 237, 87, 212, 105, 244, 220, 39, 168, 90, 150, 63, 243, 199, 39, 237, 73, 223, 63, 255, 221, 36, 237, 85, 212, 112, 230, 158, 115, 172, 80, 222, 63, 229, 218, 58, 190, 30, 223, 103, 244, 192, 48, 164, 77, 223, 63, 245, 215, 62, 162, 80, 201, 107, 227, 211, 39, 168, 77, 150, 63, 229, 218, 50, 185, 30, 211, 107, 177, 209, 50, 163, 30, 216, 122, 177, 208, 33, 162, 85, 223, 113, 177, 196, 54, 191, 71, 154, 122, 240, 193, 58, 161, 71, 148]\n",
            "470\n"
          ],
          "name": "stdout"
        }
      ]
    },
    {
      "cell_type": "code",
      "metadata": {
        "id": "J4L4ogRXftGa",
        "colab_type": "code",
        "outputId": "e6aac0e8-f932-463c-ee01-a2eecdb31900",
        "colab": {
          "base_uri": "https://localhost:8080/",
          "height": 55
        }
      },
      "source": [
        "#Frequency of characters in english literature\n",
        "freq={'A':0.08497,'B':0.01492,'C':0.02202,'D':0.04253,'E':0.11162,'F':0.02228,'G':0.02015,'H':0.06094,'I':0.07546,'J':0.00153,'K':0.01292,'L':0.04025,'M':0.02406,'N':0.06749,'O':0.07507,'P':0.01929,'Q':0.00095,'R':0.07587,'S':0.06327,'T':0.09356,'U':0.02758,'V':0.00978,'W':0.02560,'X':0.00150,'Y':0.01994,'Z':0.0077}\n",
        "print(freq)"
      ],
      "execution_count": 110,
      "outputs": [
        {
          "output_type": "stream",
          "text": [
            "{'A': 0.08497, 'B': 0.01492, 'C': 0.02202, 'D': 0.04253, 'E': 0.11162, 'F': 0.02228, 'G': 0.02015, 'H': 0.06094, 'I': 0.07546, 'J': 0.00153, 'K': 0.01292, 'L': 0.04025, 'M': 0.02406, 'N': 0.06749, 'O': 0.07507, 'P': 0.01929, 'Q': 0.00095, 'R': 0.07587, 'S': 0.06327, 'T': 0.09356, 'U': 0.02758, 'V': 0.00978, 'W': 0.0256, 'X': 0.0015, 'Y': 0.01994, 'Z': 0.0077}\n"
          ],
          "name": "stdout"
        }
      ]
    },
    {
      "cell_type": "code",
      "metadata": {
        "id": "MwYoj0asUK8Y",
        "colab_type": "code",
        "colab": {}
      },
      "source": [
        "def frequency_list_sum(list_of_elements):\n",
        "  counts={}\n",
        "  l=0\n",
        "  for k in list_of_elements:\n",
        "    l+=1\n",
        "    counts[k]=counts.get(k,0)+1\n",
        "  values=list(map(lambda x:x/l,list(counts.values())))\n",
        "  sos=sum(map(lambda x: x ** 2,values))\n",
        "  return sos"
      ],
      "execution_count": 0,
      "outputs": []
    },
    {
      "cell_type": "code",
      "metadata": {
        "id": "lF1ko6CMZHkv",
        "colab_type": "code",
        "outputId": "ad0bb0e5-764c-4a0d-e772-6bc60770fafb",
        "colab": {
          "base_uri": "https://localhost:8080/",
          "height": 72
        }
      },
      "source": [
        "#To find the key lenth of the cypher\n",
        "import numpy as np\n",
        "max_dist=[]\n",
        "for i in range(13):         #The key lengths we try are 1 to 13(as given in question)\n",
        "  t=[hex_to_dec[j] for j in range(0,len(hex_to_dec),i+1)]\n",
        "  max_dist.append(frequency_list_sum(t))\n",
        "max_dist=np.array(max_dist)\n",
        "key_length=np.argmax(max_dist)+1\n",
        "print(\"We try the cypher with key lengths ranging from 1 to 13.\\nAnd we find the value of summation of frequency square is greatest for the {} key length.\\nTherefore the key length is {}\".format(key_length,key_length))"
      ],
      "execution_count": 112,
      "outputs": [
        {
          "output_type": "stream",
          "text": [
            "We try the cypher with key lengths ranging from 1 to 13.\n",
            "And we find the value of summation of frequency square is greatest for the 7 key length.\n",
            "Therefore the key length is 7\n"
          ],
          "name": "stdout"
        }
      ]
    },
    {
      "cell_type": "code",
      "metadata": {
        "id": "lw8rhuE2KPO2",
        "colab_type": "code",
        "colab": {}
      },
      "source": [
        "def get_key(my_dict,val): \n",
        "    for key, value in my_dict.items(): \n",
        "         if val == value: \n",
        "             return key "
      ],
      "execution_count": 0,
      "outputs": []
    },
    {
      "cell_type": "code",
      "metadata": {
        "id": "MwvqTHfwWADB",
        "colab_type": "code",
        "colab": {}
      },
      "source": [
        "def get_key_byte(n):\n",
        "  t=t=[hex_to_dh[i] for i in range(0+n,len(hex_to_dec),key_length)]\n",
        "  b={}\n",
        "  for i in range(256):\n",
        "    l=[ac^i for ac in t]\n",
        "    if not any(char<32 or char>127 for char in l):\n",
        "      l=list(map(lambda x:x.upper(),[chr(i) for i in l if 97<=i<=122]))       #Taking only the lowercase letters from each in situ deciphered codes and converting them to uppercase for matching the key of the freq table that contains the frequency of english charactes in the language\n",
        "      q,summation={},0\n",
        "      for k in l:\n",
        "        q[k]=q.get(k,0)+1\n",
        "      for kq,vq in q.items():\n",
        "        q[kq]=vq/26\n",
        "        for kp,vp in freq.items():\n",
        "          if kp==kq:\n",
        "            summation+=vp*vq\n",
        "      b[i]=summation\n",
        "  return get_key(b,max(list(b.values())))"
      ],
      "execution_count": 0,
      "outputs": []
    },
    {
      "cell_type": "code",
      "metadata": {
        "id": "Zwzuth_RocLT",
        "colab_type": "code",
        "outputId": "204e2a91-5fdf-44af-bead-829acc6d63e4",
        "colab": {
          "base_uri": "https://localhost:8080/",
          "height": 35
        }
      },
      "source": [
        "key=[]\n",
        "for i in range(key_length):\n",
        "  key.append(get_key_byte(i))\n",
        "print(key)"
      ],
      "execution_count": 115,
      "outputs": [
        {
          "output_type": "stream",
          "text": [
            "[186, 31, 145, 178, 83, 205, 62]\n"
          ],
          "name": "stdout"
        }
      ]
    },
    {
      "cell_type": "code",
      "metadata": {
        "id": "2rESQp9hdQyO",
        "colab_type": "code",
        "outputId": "ab53d70e-67ee-4d7d-85f6-a0ba9c0809a6",
        "colab": {
          "base_uri": "https://localhost:8080/",
          "height": 90
        }
      },
      "source": [
        "message=[chr(hex_to_dec[i]^key[i%key_length]) for i in range(len(hex_to_dec))]\n",
        "p=[]\n",
        "w=[]\n",
        "for i in message:\n",
        "  if i==' ':\n",
        "    p.append(\"\".join(w))\n",
        "    w=[]\n",
        "  else:\n",
        "    w.append(i)\n",
        "p.append(\"\".join(w))\n",
        "for i in range(len(p)):\n",
        "  print(p[i],end=\" \")\n",
        "  if i%20==0 and i!=0:\n",
        "    print()"
      ],
      "execution_count": 116,
      "outputs": [
        {
          "output_type": "stream",
          "text": [
            "Cryptography is the practice and study of techniques for, among other things, secure communication in the presence of attackers. Cryptography has \n",
            "been used for hundreds, if not thousands, of years, but traditional cryptosystems were designed and evaluated in a fairly ad \n",
            "hoc manner. For example, the Vigenere encryption scheme was thought to be secure for decades after it was invented, but \n",
            "we now know, and this exercise demonstrates, that it can be broken very easily. "
          ],
          "name": "stdout"
        }
      ]
    },
    {
      "cell_type": "code",
      "metadata": {
        "id": "FLZtjGHJLKXT",
        "colab_type": "code",
        "colab": {}
      },
      "source": [
        ""
      ],
      "execution_count": 0,
      "outputs": []
    }
  ]
}
